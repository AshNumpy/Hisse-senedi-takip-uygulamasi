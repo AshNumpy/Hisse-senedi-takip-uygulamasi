{
 "cells": [
  {
   "cell_type": "code",
   "execution_count": 45,
   "metadata": {},
   "outputs": [
    {
     "data": {
      "text/html": [
       "<div>\n",
       "<style scoped>\n",
       "    .dataframe tbody tr th:only-of-type {\n",
       "        vertical-align: middle;\n",
       "    }\n",
       "\n",
       "    .dataframe tbody tr th {\n",
       "        vertical-align: top;\n",
       "    }\n",
       "\n",
       "    .dataframe thead th {\n",
       "        text-align: right;\n",
       "    }\n",
       "</style>\n",
       "<table border=\"1\" class=\"dataframe\">\n",
       "  <thead>\n",
       "    <tr style=\"text-align: right;\">\n",
       "      <th></th>\n",
       "      <th>Open</th>\n",
       "      <th>High</th>\n",
       "      <th>Low</th>\n",
       "      <th>Close</th>\n",
       "      <th>Volume</th>\n",
       "    </tr>\n",
       "    <tr>\n",
       "      <th>Date</th>\n",
       "      <th></th>\n",
       "      <th></th>\n",
       "      <th></th>\n",
       "      <th></th>\n",
       "      <th></th>\n",
       "    </tr>\n",
       "  </thead>\n",
       "  <tbody>\n",
       "    <tr>\n",
       "      <th>2019-12-02</th>\n",
       "      <td>5.030624</td>\n",
       "      <td>5.174178</td>\n",
       "      <td>5.018141</td>\n",
       "      <td>5.149212</td>\n",
       "      <td>35285644</td>\n",
       "    </tr>\n",
       "    <tr>\n",
       "      <th>2019-12-03</th>\n",
       "      <td>5.130488</td>\n",
       "      <td>5.180419</td>\n",
       "      <td>4.993175</td>\n",
       "      <td>5.024383</td>\n",
       "      <td>42990474</td>\n",
       "    </tr>\n",
       "    <tr>\n",
       "      <th>2019-12-04</th>\n",
       "      <td>5.061831</td>\n",
       "      <td>5.136729</td>\n",
       "      <td>5.005659</td>\n",
       "      <td>5.099280</td>\n",
       "      <td>32775458</td>\n",
       "    </tr>\n",
       "    <tr>\n",
       "      <th>2019-12-05</th>\n",
       "      <td>5.130488</td>\n",
       "      <td>5.149212</td>\n",
       "      <td>5.068073</td>\n",
       "      <td>5.074315</td>\n",
       "      <td>31374126</td>\n",
       "    </tr>\n",
       "    <tr>\n",
       "      <th>2019-12-06</th>\n",
       "      <td>5.074315</td>\n",
       "      <td>5.149212</td>\n",
       "      <td>5.049349</td>\n",
       "      <td>5.093039</td>\n",
       "      <td>35732398</td>\n",
       "    </tr>\n",
       "  </tbody>\n",
       "</table>\n",
       "</div>"
      ],
      "text/plain": [
       "                Open      High       Low     Close    Volume\n",
       "Date                                                        \n",
       "2019-12-02  5.030624  5.174178  5.018141  5.149212  35285644\n",
       "2019-12-03  5.130488  5.180419  4.993175  5.024383  42990474\n",
       "2019-12-04  5.061831  5.136729  5.005659  5.099280  32775458\n",
       "2019-12-05  5.130488  5.149212  5.068073  5.074315  31374126\n",
       "2019-12-06  5.074315  5.149212  5.049349  5.093039  35732398"
      ]
     },
     "execution_count": 45,
     "metadata": {},
     "output_type": "execute_result"
    }
   ],
   "source": [
    "from data import get_dataset, get_dividends\n",
    "import pandas as pd \n",
    "import numpy as np \n",
    "from prophet import Prophet\n",
    "\n",
    "df = get_dataset(\"EREGL.IS\", period=\"3y\")\n",
    "df.head()"
   ]
  },
  {
   "cell_type": "code",
   "execution_count": 46,
   "metadata": {},
   "outputs": [],
   "source": [
    "def forecasting(data, date_column, value_column, train_size=0.75, freq='D', prediction_periods=30, country_code='TR'):\n",
    "    \"\"\"\"\n",
    "    Inputs:\\n\n",
    "    data: Dataframe\\n\n",
    "    date_column: Name of the Date column. If date column on the index you should write just name of that and keep moving.\\n\n",
    "    value_column: Price or whatever column that has the values.\\n\n",
    "    train_size: !! Where should function cut off the dataset as train.\\n\n",
    "    freq: Frequency of the data , default = Daily.\\n\n",
    "    \\t\\t'D':Daily, 'W':Weekly, 'Y':Yearly\\n\n",
    "    prediction_periods: How many periods you want to do forecast.\\n\n",
    "    country_name: Name of the country that datas belong it. It necessary for the holidays effect, default = TR\\n\n",
    "    \\n\n",
    "    Libraries: prophet from facebook\\n\n",
    "    \\n\n",
    "    Returns:\\n\n",
    "    model: Forecasting model.\\n\n",
    "    forecast: Predicted values.\\n\n",
    "    training_data: Training data.\\n\n",
    "    test_data: Test data\\n\n",
    "    \"\"\"\n",
    "\n",
    "    # importing the librarie(s)\n",
    "    from prophet import Prophet\n",
    "    import logging\n",
    "    logging.getLogger('fbprophet').setLevel(logging.WARNING)    \n",
    "\n",
    "    # prepare the data for forecasting\n",
    "    data = data.reset_index()\n",
    "    data = data[[date_column, value_column]].dropna(axis=0)\n",
    "    data.columns = ['ds', 'y']\n",
    "\n",
    "    # splitting for accuracy testing\n",
    "    cutoff = data.iloc[int(np.round(len(data)*train_size)),]['ds']\n",
    "    train = data[data['ds'] < cutoff]\n",
    "    test = data[data['ds'] > cutoff]\n",
    "    \n",
    "    # model building\n",
    "    model = Prophet()\n",
    "    model.add_country_holidays(country_name=country_code)\n",
    "    model.fit(train)\n",
    "    \n",
    "    # set future times to do forecasting\n",
    "    future = model.make_future_dataframe(periods=prediction_periods, freq=freq)\n",
    "    \n",
    "    # make predictions\n",
    "    forecast = model.predict(future)\n",
    "    print(\"Process is Succesfully DONE!\")\n",
    "    \n",
    "    return model, forecast, train, test"
   ]
  },
  {
   "cell_type": "code",
   "execution_count": 47,
   "metadata": {},
   "outputs": [
    {
     "data": {
      "text/html": [
       "<div>\n",
       "<style scoped>\n",
       "    .dataframe tbody tr th:only-of-type {\n",
       "        vertical-align: middle;\n",
       "    }\n",
       "\n",
       "    .dataframe tbody tr th {\n",
       "        vertical-align: top;\n",
       "    }\n",
       "\n",
       "    .dataframe thead th {\n",
       "        text-align: right;\n",
       "    }\n",
       "</style>\n",
       "<table border=\"1\" class=\"dataframe\">\n",
       "  <thead>\n",
       "    <tr style=\"text-align: right;\">\n",
       "      <th></th>\n",
       "      <th>ds</th>\n",
       "      <th>y</th>\n",
       "    </tr>\n",
       "  </thead>\n",
       "  <tbody>\n",
       "    <tr>\n",
       "      <th>0</th>\n",
       "      <td>2019-12-02</td>\n",
       "      <td>5.149212</td>\n",
       "    </tr>\n",
       "    <tr>\n",
       "      <th>1</th>\n",
       "      <td>2019-12-03</td>\n",
       "      <td>5.024383</td>\n",
       "    </tr>\n",
       "    <tr>\n",
       "      <th>2</th>\n",
       "      <td>2019-12-04</td>\n",
       "      <td>5.099280</td>\n",
       "    </tr>\n",
       "    <tr>\n",
       "      <th>3</th>\n",
       "      <td>2019-12-05</td>\n",
       "      <td>5.074315</td>\n",
       "    </tr>\n",
       "    <tr>\n",
       "      <th>4</th>\n",
       "      <td>2019-12-06</td>\n",
       "      <td>5.093039</td>\n",
       "    </tr>\n",
       "  </tbody>\n",
       "</table>\n",
       "</div>"
      ],
      "text/plain": [
       "           ds         y\n",
       "0  2019-12-02  5.149212\n",
       "1  2019-12-03  5.024383\n",
       "2  2019-12-04  5.099280\n",
       "3  2019-12-05  5.074315\n",
       "4  2019-12-06  5.093039"
      ]
     },
     "execution_count": 47,
     "metadata": {},
     "output_type": "execute_result"
    }
   ],
   "source": [
    "df = df.reset_index()\n",
    "df = df[['Date', 'Close']].dropna(axis=0)\n",
    "df.columns = ['ds', 'y']\n",
    "df.head()"
   ]
  },
  {
   "cell_type": "code",
   "execution_count": 57,
   "metadata": {},
   "outputs": [
    {
     "data": {
      "text/plain": [
       "((641, 2), (113, 2), datetime.date(2022, 6, 21))"
      ]
     },
     "execution_count": 57,
     "metadata": {},
     "output_type": "execute_result"
    }
   ],
   "source": [
    "cutoff = df.iloc[int(np.round(len(df)*0.85)),]['ds']\n",
    "train = df[df['ds'] <= cutoff]\n",
    "test = df[df['ds'] >= cutoff]\n",
    "train.shape, test.shape, cutoff"
   ]
  },
  {
   "cell_type": "code",
   "execution_count": 49,
   "metadata": {},
   "outputs": [
    {
     "name": "stderr",
     "output_type": "stream",
     "text": [
      "10:40:20 - cmdstanpy - INFO - Chain [1] start processing\n",
      "10:40:20 - cmdstanpy - INFO - Chain [1] done processing\n"
     ]
    },
    {
     "data": {
      "text/plain": [
       "<prophet.forecaster.Prophet at 0x28883a9a710>"
      ]
     },
     "execution_count": 49,
     "metadata": {},
     "output_type": "execute_result"
    }
   ],
   "source": [
    "from prophet import Prophet \n",
    "import logging \n",
    "logging.getLogger('fbprophet').setLevel(logging.WARNING)\n",
    "\n",
    "model = Prophet()\n",
    "model.add_country_holidays(country_name='TR')\n",
    "model.fit(train)"
   ]
  },
  {
   "cell_type": "code",
   "execution_count": 60,
   "metadata": {},
   "outputs": [
    {
     "data": {
      "text/plain": [
       "((754, 1), (641, 2), (113, 2))"
      ]
     },
     "execution_count": 60,
     "metadata": {},
     "output_type": "execute_result"
    }
   ],
   "source": [
    "future = model.make_future_dataframe(periods=test.shape[0], freq='d')\n",
    "future.shape, train.shape, test.shape"
   ]
  },
  {
   "cell_type": "code",
   "execution_count": 59,
   "metadata": {},
   "outputs": [
    {
     "data": {
      "text/plain": [
       "True"
      ]
     },
     "execution_count": 59,
     "metadata": {},
     "output_type": "execute_result"
    }
   ],
   "source": [
    "future.shape[0] - train.shape[0] == test.shape[0]"
   ]
  },
  {
   "cell_type": "code",
   "execution_count": 52,
   "metadata": {},
   "outputs": [
    {
     "data": {
      "text/plain": [
       "(754, 4)"
      ]
     },
     "execution_count": 52,
     "metadata": {},
     "output_type": "execute_result"
    }
   ],
   "source": [
    "forecast = model.predict(future)\n",
    "forecast = forecast[['ds', 'yhat_lower', 'yhat_upper', 'yhat']]\n",
    "forecast.shape"
   ]
  },
  {
   "cell_type": "code",
   "execution_count": 54,
   "metadata": {},
   "outputs": [
    {
     "data": {
      "text/plain": [
       "((113, 2),\n",
       "              ds          y\n",
       " 640  2022-06-21  28.700001\n",
       " 641  2022-06-22  28.200001\n",
       " 642  2022-06-23  27.580000\n",
       " 643  2022-06-24  27.860001\n",
       " 644  2022-06-27  27.139999,\n",
       "              ds          y\n",
       " 748  2022-11-24  41.480000\n",
       " 749  2022-11-25  41.880001\n",
       " 750  2022-11-28  41.900002\n",
       " 751  2022-11-29  41.860001\n",
       " 752  2022-12-01  43.259998)"
      ]
     },
     "execution_count": 54,
     "metadata": {},
     "output_type": "execute_result"
    }
   ],
   "source": [
    "test.shape, test.head(), test.tail()"
   ]
  },
  {
   "cell_type": "code",
   "execution_count": 55,
   "metadata": {},
   "outputs": [
    {
     "data": {
      "text/plain": [
       "((78, 2),\n",
       "             ds       yhat\n",
       " 640 2022-06-21  32.504077\n",
       " 641 2022-06-22  32.520202\n",
       " 642 2022-06-23  32.534502\n",
       " 643 2022-06-24  32.492128\n",
       " 646 2022-06-27  32.507963,\n",
       "             ds       yhat\n",
       " 747 2022-10-06  33.003431\n",
       " 748 2022-10-07  33.004852\n",
       " 751 2022-10-10  33.143061\n",
       " 752 2022-10-11  33.230120\n",
       " 753 2022-10-12  33.349207)"
      ]
     },
     "execution_count": 55,
     "metadata": {},
     "output_type": "execute_result"
    }
   ],
   "source": [
    "y_pred = "
   ]
  },
  {
   "cell_type": "code",
   "execution_count": 56,
   "metadata": {},
   "outputs": [
    {
     "data": {
      "image/png": "[encoded data removed]",
      "text/plain": [
       "<Figure size 720x432 with 1 Axes>"
      ]
     },
     "metadata": {},
     "output_type": "display_data"
    }
   ],
   "source": [
    "import matplotlib.pyplot as plt\n",
    "fig = model.plot(forecast)\n",
    "fig.legend(loc='upper left', fontsize='x-large')\n",
    "plt.show()"
   ]
  },
  {
   "cell_type": "code",
   "execution_count": null,
   "metadata": {},
   "outputs": [],
   "source": []
  }
 ],
 "metadata": {
  "kernelspec": {
   "display_name": "Python 3.10.5 64-bit",
   "language": "python",
   "name": "python3"
  },
  "language_info": {
   "codemirror_mode": {
    "name": "ipython",
    "version": 3
   },
   "file_extension": ".py",
   "mimetype": "text/x-python",
   "name": "python",
   "nbconvert_exporter": "python",
   "pygments_lexer": "ipython3",
   "version": "3.10.5"
  },
  "orig_nbformat": 4,
  "vscode": {
   "interpreter": {
    "hash": "578ce5a4903d7b45920c2d79663ce2541e7c0226009dc3f8451a28c8417bba54"
   }
  }
 },
 "nbformat": 4,
 "nbformat_minor": 2
}
